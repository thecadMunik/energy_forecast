{
  "nbformat": 4,
  "nbformat_minor": 0,
  "metadata": {
    "colab": {
      "private_outputs": true,
      "provenance": []
    },
    "kernelspec": {
      "name": "python3",
      "display_name": "Python 3"
    },
    "language_info": {
      "name": "python"
    }
  },
  "cells": [
    {
      "cell_type": "markdown",
      "source": [
        "### ENERGY REAL-TIME FORECASTING PROJECT"
      ],
      "metadata": {
        "id": "yr6aq3j5d65b"
      }
    },
    {
      "cell_type": "code",
      "source": [
        "# Install required packages in Colab\n",
        "!pip install pandas  matplotlib seaborn scikit-learn xgboost requests"
      ],
      "metadata": {
        "id": "Q4BtUmcp0TLQ"
      },
      "execution_count": null,
      "outputs": []
    },
    {
      "cell_type": "markdown",
      "source": [
        "#### Data Loading from URL SupaBase\n",
        "\n",
        "1. **Imports**  \n",
        "   - `pandas` for handling tables of data.  \n",
        "   - `requests` for making HTTP calls to the Supabase API.\n",
        "\n",
        "2. **Configuration**  \n",
        "   - `SUPABASE_URL` and `SUPABASE_API_KEY` point to your database and authorize access.  \n",
        "   - `TABLE` is the name of the table you’ll pull (`smart_meter_readings`).\n",
        "\n",
        "3. **`load_data()` function**  \n",
        "   - Builds the URL to fetch **all columns** (`select=*`) from your table, sorted by `timestamp` ascending (`order=timestamp.asc`).  \n",
        "   - Sends a GET request with your API key.  \n",
        "   - If successful (`status_code == 200`), prints the number of records retrieved and converts the JSON response into a pandas DataFrame.  \n",
        "   - If unsuccessful, raises an error with the status code and message.\n",
        "\n",
        "4. **Usage**  \n",
        "   - Calls `load_data()` to populate `df` with the full dataset.  \n",
        "   - Displays the first few rows of `df` using `df.head()`.  \n",
        "\n",
        "> **Purpose:** Pull the entire smart-meter readings table into your notebook for analysis."
      ],
      "metadata": {
        "id": "iwi18MFAfEmW"
      }
    },
    {
      "cell_type": "markdown",
      "source": [
        "#### Data Inspection"
      ],
      "metadata": {
        "id": "JqzWh3QPgRJh"
      }
    },
    {
      "cell_type": "code",
      "source": [
        "import pandas as pd\n",
        "import requests\n",
        "from google.colab import userdata\n",
        "\n",
        "SUPABASE_URL     = userdata.get('SupabaseURL')\n",
        "SUPABASE_API_KEY = userdata.get('SupabaseAPI')\n",
        "TABLE            = \"smart_meter_readings_1year\"\n",
        "\n",
        "def load_data():\n",
        "    url = (\n",
        "        f\"{SUPABASE_URL}/rest/v1/{TABLE}\"\n",
        "        \"?select=*\"               # fetch all columns\n",
        "        \"&order=timestamp.asc\"    # order by timestamp ascending\n",
        "    )\n",
        "    headers = {\n",
        "        \"apikey\": SUPABASE_API_KEY,\n",
        "        \"Authorization\": f\"Bearer {SUPABASE_API_KEY}\"\n",
        "    }\n",
        "\n",
        "    res = requests.get(url, headers=headers)\n",
        "    if res.status_code == 200:\n",
        "        print(\"✅ Data pulled successfully: \", len(res.json()), \"records\\n\")\n",
        "        return pd.DataFrame(res.json())\n",
        "    else:\n",
        "        raise Exception(f\"❌ Error: {res.status_code}\\n{res.text}\")\n",
        "\n",
        "# usage\n",
        "df = load_data()\n",
        "df.head()"
      ],
      "metadata": {
        "id": "5P19vypYn_53"
      },
      "execution_count": null,
      "outputs": []
    },
    {
      "cell_type": "code",
      "source": [
        "df.shape"
      ],
      "metadata": {
        "id": "7ULuiSDnflJt"
      },
      "execution_count": null,
      "outputs": []
    },
    {
      "cell_type": "markdown",
      "source": [
        "There are 17431 rows and 13 columns in the dataset"
      ],
      "metadata": {
        "id": "LvyhqgCmgxbx"
      }
    },
    {
      "cell_type": "code",
      "source": [
        "# checking out the column names\n",
        "\n",
        "for col in df.columns:\n",
        "    print(col)"
      ],
      "metadata": {
        "id": "rFh-PExAgZQQ"
      },
      "execution_count": null,
      "outputs": []
    },
    {
      "cell_type": "code",
      "source": [
        "# Lets look at the various datatypes for each features\n",
        "df.info()"
      ],
      "metadata": {
        "id": "J5-gAVjYg4Rm"
      },
      "execution_count": null,
      "outputs": []
    },
    {
      "cell_type": "markdown",
      "source": [
        "### Data Cleaning"
      ],
      "metadata": {
        "id": "VkAStH8ohoyc"
      }
    },
    {
      "cell_type": "code",
      "source": [
        "# Step 1: Convert the 'timestamp' column from Unix seconds to a readable datetime format and store it in a new 'datetime' column\n",
        "\n",
        "df['datetime'] = pd.to_datetime(df['timestamp'])"
      ],
      "metadata": {
        "id": "9Z5Ni4VWhaas"
      },
      "execution_count": null,
      "outputs": []
    },
    {
      "cell_type": "code",
      "source": [
        "# Step 2: Extract date and ISO week number and store in new columns\n",
        "\n",
        "df['date'] = df['datetime'].dt.date\n",
        "df['week'] = df['datetime'].dt.isocalendar().week"
      ],
      "metadata": {
        "id": "eo2n82oghyhH"
      },
      "execution_count": null,
      "outputs": []
    },
    {
      "cell_type": "code",
      "source": [
        "# Step 3: Convert date to datetime, week to integer\n",
        "\n",
        "df['date'] = pd.to_datetime(df['date'])\n",
        "df['week'] = df['week'].astype(int)"
      ],
      "metadata": {
        "id": "jjSizQRHkU_f"
      },
      "execution_count": null,
      "outputs": []
    },
    {
      "cell_type": "code",
      "source": [
        "df.info()"
      ],
      "metadata": {
        "id": "6SS3b_Rni2Mw"
      },
      "execution_count": null,
      "outputs": []
    },
    {
      "cell_type": "code",
      "source": [
        "df.head(5)"
      ],
      "metadata": {
        "id": "IBMRUVA7i9oj"
      },
      "execution_count": null,
      "outputs": []
    },
    {
      "cell_type": "code",
      "source": [
        "# Calculate the date range and the number of days and unique ISO weeks in the dataset\n",
        "min_date = df['date'].min()\n",
        "max_date = df['date'].max()\n",
        "days     = (max_date - min_date).days + 1\n",
        "weeks    = df['week'].nunique()\n",
        "\n",
        "print(f\"Dataset covers {days} days, from {min_date} to {max_date} → {weeks} ISO weeks\\n\")\n"
      ],
      "metadata": {
        "id": "AAY3DWfUjFrS"
      },
      "execution_count": null,
      "outputs": []
    },
    {
      "cell_type": "code",
      "source": [
        "# Count the number of readings for each date and display them sorted by date\n",
        "daily_counts = df['date'].value_counts().sort_index()\n",
        "print(\"Readings per day:\\n\", daily_counts)"
      ],
      "metadata": {
        "id": "iEmeIhjkjiBv"
      },
      "execution_count": null,
      "outputs": []
    },
    {
      "cell_type": "code",
      "source": [
        "# Step 4: Check for nulls and duplicates\n",
        "print(\"Nulls per column:\\n\", df.isnull().sum(), \"\\n\")\n",
        "print(\"Duplicates:\", df.duplicated().sum())"
      ],
      "metadata": {
        "id": "R8PyAXRQj91l"
      },
      "execution_count": null,
      "outputs": []
    },
    {
      "cell_type": "markdown",
      "source": [
        "There's no null or duplicate values in the dataset"
      ],
      "metadata": {
        "id": "KGyx2ItYkzdO"
      }
    },
    {
      "cell_type": "code",
      "source": [
        "# Step 5: Drop irrelevant columns\n",
        "df = df.drop(columns=['id', 'timestamp'])"
      ],
      "metadata": {
        "id": "sLoeg1Vhnp9M"
      },
      "execution_count": null,
      "outputs": []
    },
    {
      "cell_type": "code",
      "source": [
        "# Move 'datetime' to the index which automatically sorts the data in datetime order for time series analysis\n",
        "df = df.set_index('datetime').sort_index()"
      ],
      "metadata": {
        "id": "hZPrbK3coa-3"
      },
      "execution_count": null,
      "outputs": []
    },
    {
      "cell_type": "code",
      "source": [
        "df.head()"
      ],
      "metadata": {
        "id": "Hdf2S8EloNpC"
      },
      "execution_count": null,
      "outputs": []
    },
    {
      "cell_type": "code",
      "source": [
        "# Round down all datetime index values to the nearest second\n",
        "df.index = df.index.floor('s')\n"
      ],
      "metadata": {
        "id": "i8wwxgxfoV4l"
      },
      "execution_count": null,
      "outputs": []
    },
    {
      "cell_type": "code",
      "source": [
        "df.head()"
      ],
      "metadata": {
        "id": "9oIMGzLXopqg"
      },
      "execution_count": null,
      "outputs": []
    },
    {
      "cell_type": "markdown",
      "source": [
        "### Data Visualization and Analysis"
      ],
      "metadata": {
        "id": "0pUWThi0oy0M"
      }
    },
    {
      "cell_type": "markdown",
      "source": [
        "#### Univariate Distribution"
      ],
      "metadata": {
        "id": "BwXY_sbd4wfO"
      }
    },
    {
      "cell_type": "code",
      "source": [
        "import matplotlib.pyplot as plt\n",
        "import seaborn as sns\n",
        "import numpy as np"
      ],
      "metadata": {
        "id": "gSpKECRCosRL"
      },
      "execution_count": null,
      "outputs": []
    },
    {
      "cell_type": "code",
      "source": [
        "# Create histograms for all numeric columns\n",
        "numeric_cols = df.select_dtypes(include=[np.number]).columns\n",
        "df[numeric_cols].hist(figsize=(15, 20), bins=30, edgecolor='black', layout=(len(numeric_cols)//2 + 1, 2))\n",
        "\n",
        "# Get the current figure and axes\n",
        "fig = plt.gcf()\n",
        "axes = fig.get_axes()\n",
        "\n",
        "# Loop through each numeric column and corresponding subplot\n",
        "for ax, col in zip(axes, numeric_cols):\n",
        "    data = df[col].dropna()\n",
        "    mean = data.mean()\n",
        "    median = data.median()\n",
        "    mode = data.mode().iloc[0] if not data.mode().empty else np.nan\n",
        "    ax.axvline(mean, color='red', linestyle='--', linewidth=2, label='Mean')\n",
        "    ax.axvline(median, color='green', linestyle='-', linewidth=2, label='Median')\n",
        "    ax.axvline(mode, color='orange', linestyle='-', linewidth=2, label='Mode')\n",
        "    ax.set_xlabel(col, fontsize=10)\n",
        "    ax.set_ylabel('Count', fontsize=10)\n",
        "    ax.legend()\n",
        "\n",
        "plt.tight_layout()\n",
        "plt.suptitle(\"Distributions of the Numeric Data\", fontsize=16, y=1.02)\n",
        "plt.show()"
      ],
      "metadata": {
        "id": "vRMXFyho450j"
      },
      "execution_count": null,
      "outputs": []
    },
    {
      "cell_type": "markdown",
      "source": [
        "#### Observations and Insights\n",
        "\n",
        "### 1. **meter_id**\n",
        "- **Metrics:** Range: 1000–1100; Mean ≈ 1050; Median ≈ 1050; Mode ≈ 1045. Counts for each meter are nearly uniform.\n",
        "- **What this means:**  \n",
        "  The dataset is well-balanced across all meters, indicating even data collection. This minimizes the risk of bias from any single location and ensures that insights or models apply generally across all metered sites.\n",
        "\n",
        "### 2. **power_consumption_kwh**\n",
        "- **Metrics:** Range: ~0.1–7.5 kWh per interval; Mean ≈ 1.3 kWh; Median ≈ 0.5 kWh; Mode ≈ 0.1 kWh. Over 60% of intervals are below 1 kWh; distribution is strongly right-skewed.\n",
        "- **What this means:**  \n",
        "  Most intervals reflect modest energy use, but occasional high-usage intervals drive the average upward. This is typical for large energy datasets, where normal daily activity is punctuated by spikes (from heavy appliances, EV charging, or industrial equipment).\n",
        "\n",
        "### 3. **voltage**\n",
        "- **Metrics:** Range: 224–231 V; Mean ≈ 228.7 V; Median ≈ 229 V; Mode: 229 V. About 90% of readings fall between 227 V and 231 V.\n",
        "- **What this means:**  \n",
        "  Voltage is tightly regulated and stable for most of the year, indicating a reliable power grid. The few lower readings likely represent minor dips or simulation noise, not systemic supply issues.\n",
        "\n",
        "### 4. **current**\n",
        "- **Metrics:** Range: 0.1–22 A; Mean ≈ 5.2 A; Median ≈ 2.4 A; Mode ≈ 0.7 A. Over 75% of readings are below 5 A; highly right-skewed distribution.\n",
        "- **What this means:**  \n",
        "  The vast majority of intervals have low current draw, with infrequent but significant spikes. These higher values likely reflect periods of peak demand or operation of large appliances.\n",
        "\n",
        "### 5. **temperature_c**\n",
        "- **Metrics:** Range: 4–35°C; Mean ≈ 20°C; Median ≈ 20°C; Mode ≈ 17°C. Most temperatures are between 12°C and 28°C, with a mild central peak.\n",
        "- **What this means:**  \n",
        "  The temperature data captures a full annual cycle, covering both warm and cool periods. The broad, nearly symmetrical distribution supports seasonality analysis.\n",
        "\n",
        "### 6. **humidity_pct**\n",
        "- **Metrics:** Range: 52–87%; Mean ≈ 69%; Median ≈ 70%; Mode ≈ 83%. Humidity is broadly distributed with two main peaks (around 58% and 83%).\n",
        "- **What this means:**  \n",
        "  Humidity reflects strong seasonality, likely corresponding to dry and rainy periods. This variation enables robust analysis of how weather affects power consumption.\n",
        "\n",
        "### 7. **hour_of_day**\n",
        "- **Metrics:** Range: 0–23; Mean ≈ 11.5; all hours are equally represented.\n",
        "- **What this means:**  \n",
        "  There is excellent coverage across every hour, ensuring that time-of-day patterns can be analyzed without bias or missing intervals.\n",
        "\n",
        "### 8. **week**\n",
        "- **Metrics:** Range: 1–52; all weeks in the year are covered and equally represented.\n",
        "- **What this means:**  \n",
        "  The data spans a full year, supporting both seasonal and long-term trend analysis. No weeks are missing, so time-based insights will be robust."
      ],
      "metadata": {
        "id": "Li-rpAqNtD3B"
      }
    },
    {
      "cell_type": "code",
      "source": [
        "# Function to create barplots that indicate percentage for each category.\n",
        "def bar_perc(plot, feature):\n",
        "    total = len(feature) # length of the column\n",
        "    for p in plot.patches:\n",
        "        percentage = '{:.1f}%'.format(100 * p.get_height()/total) # percentage of each class of the category\n",
        "        x = p.get_x() + p.get_width() / 2 - 0.05 # width of the plot\n",
        "        y = p.get_y() + p.get_height()           # height of the plot\n",
        "        plot.annotate(percentage, (x, y), size = 12) # annotate the percentage"
      ],
      "metadata": {
        "id": "Z7jW6QRWp_r_"
      },
      "execution_count": null,
      "outputs": []
    },
    {
      "cell_type": "code",
      "source": [
        "#get all category datatype\n",
        "list_col=  df.select_dtypes(['object', 'bool']).columns\n",
        "\n",
        "fig1, axes1 =plt.subplots(2,2,figsize=(10, 8))\n",
        "axes1 = axes1.flatten()\n",
        "for i in range(len(list_col)):\n",
        "    order = df[list_col[i]].value_counts(ascending=False).index # to display bar in ascending order\n",
        "    axis=sns.countplot(x=list_col[i], data=df , order=order,ax=axes1[i],palette='coolwarm').set(title=list_col[i])\n",
        "    bar_perc(axes1[i],df[list_col[i]])\n",
        "\n",
        "# Hide any unused subplots\n",
        "for j in range(len(list_col), len(axes1)):\n",
        "    fig1.delaxes(axes1[j])\n",
        "\n",
        "plt.tight_layout()\n",
        "plt.suptitle(\"Distributions of the Categorical Data\", fontsize=16, y=1.02)\n",
        "plt.show()"
      ],
      "metadata": {
        "id": "A8pvgvkCtYzl"
      },
      "execution_count": null,
      "outputs": []
    },
    {
      "cell_type": "markdown",
      "source": [
        "### Categorical Variable Distributions\n",
        "\n",
        "#### 1. Region\n",
        "**Metrics:**  \n",
        "South: 29.7% | West: 25.3% | East: 25.2% | North: 19.8%\n",
        "\n",
        "**What this means:**  \n",
        "The dataset is relatively well-distributed across all regions, but the **South** has the highest representation (nearly 30%), while the **North** has the lowest (under 20%). This may reflect larger population centers, more meters installed, or higher data collection frequency in the South.\n",
        "\n",
        "---\n",
        "\n",
        "#### 2. Property Type\n",
        "**Metrics:**  \n",
        "Residential: 50.6% | Commercial: 49.4%\n",
        "\n",
        "**What this means:**  \n",
        "The split between **residential** and **commercial** properties is almost perfectly balanced. This is ideal for comparative analysis and ensures there is no inherent bias toward one property type.\n",
        "\n",
        "---\n",
        "\n",
        "#### 3. EV Owner\n",
        "**Metrics:**  \n",
        "False: 50.2% | True: 49.8%\n",
        "\n",
        "**What this means:**  \n",
        "**EV ownership** is very evenly distributed, allowing for robust comparisons of power consumption patterns between EV owners and non-owners. This balanced distribution supports fair modeling and analysis.\n",
        "\n",
        "---\n",
        "\n",
        "#### 4. Solar Installed\n",
        "**Metrics:**  \n",
        "False: 70.0% | True: 30.0%\n",
        "\n",
        "**What this means:**  \n",
        "A significant majority of properties **do not have solar panels** (70%), while 30% do. This gives good statistical power for comparing solar versus non-solar homes, though findings for the solar group may be less robust for rare patterns."
      ],
      "metadata": {
        "id": "XyN5p5y0ucAK"
      }
    },
    {
      "cell_type": "markdown",
      "source": [
        "### Bivariate Distribution"
      ],
      "metadata": {
        "id": "Txc7GsdjusOR"
      }
    },
    {
      "cell_type": "code",
      "source": [
        "# Power Consumption by Region, Property Type, EV Owner and Solar Installed\n",
        "\n",
        "fig, axes = plt.subplots(2, 2, figsize=(10, 7))\n",
        "\n",
        "# 1. Region\n",
        "sns.boxplot(x='region', y='power_consumption_kwh', data=df, ax=axes[0,0])\n",
        "axes[0,0].set_title(\"Power Consumption by Region\")\n",
        "\n",
        "# 2. Property Type\n",
        "sns.boxplot(x='property_type', y='power_consumption_kwh', data=df, ax=axes[0,1])\n",
        "axes[0,1].set_title(\"Power Consumption by Property_Type\")\n",
        "\n",
        "# 3. EV Owner\n",
        "sns.boxplot(x='ev_owner', y='power_consumption_kwh', data=df, ax=axes[1,0])\n",
        "axes[1,0].set_title(\"Power Consumption by EV_Owner\")\n",
        "\n",
        "# 4. Solar Installed\n",
        "sns.boxplot(x='solar_installed', y='power_consumption_kwh', data=df, ax=axes[1,1])\n",
        "axes[1,1].set_title(\"Power Consumption by Solar_Installed\")\n",
        "\n",
        "plt.tight_layout()\n",
        "plt.show()"
      ],
      "metadata": {
        "id": "YsQUq_g5teLf"
      },
      "execution_count": null,
      "outputs": []
    },
    {
      "cell_type": "markdown",
      "source": [
        "### Boxplot Observations: Power Consumption\n",
        "\n",
        "#### 1. Region\n",
        "- **West & East:** Highest medians (~1.6 kWh) and largest upper whiskers (peaks up to ~5 kWh), pointing to heavier loads or more frequent use of large appliances in these areas.\n",
        "- **South:** Similar distribution to West/East, but with slightly fewer extreme high intervals (upper limit around 4.5 kWh).\n",
        "- **North:** Lower median (~1.3 kWh) and a more compact interquartile range, indicating lighter and more consistent usage.\n",
        "- **What this means:** Power usage per interval is highest in the West and East, and lowest in the North.\n",
        "\n",
        "#### 2. Property Type\n",
        "- **Residential:** Higher median (~1.1 kWh) and wider spread, with more outliers—reflects more diverse and generally higher usage.\n",
        "- **Commercial:** Lower median (~0.7 kWh) and a tighter distribution, with fewer outliers and less variability.\n",
        "- **What this means:** Residential properties are the primary drivers of higher and more variable interval power consumption.\n",
        "\n",
        "#### 3. EV Owner\n",
        "- **Both groups:** Nearly identical boxplots, with medians around 0.9 kWh, similar spreads, and similar maximum values.\n",
        "- **What this means:** EV ownership does not significantly impact overall interval power consumption in this dataset.\n",
        "\n",
        "#### 4. Solar Installed\n",
        "- **Both groups:** Medians and distribution shapes are almost identical (~0.9 kWh), showing no visible impact from solar installation on recorded interval consumption.\n",
        "- **What this means:** Having solar panels does not noticeably alter overall usage patterns in this sample.\n",
        "\n",
        "**General Remark:**  \n",
        "The main drivers of variation in power consumption intervals are property type and region, not EV ownership or solar installation."
      ],
      "metadata": {
        "id": "bbSoZcPZvPcO"
      }
    },
    {
      "cell_type": "code",
      "source": [
        "# Daily & Weekly Time‐Series Patterns\n",
        "\n",
        "# Resample to daily mean consumption\n",
        "daily = df['power_consumption_kwh'].resample('D').mean()\n",
        "plt.figure(figsize=(10,3))\n",
        "daily.plot()\n",
        "plt.title(\"Daily Average Power Consumption\")\n",
        "plt.ylabel(\"kWh\")\n",
        "plt.show()\n",
        "\n",
        "# Hour‐of‐day profile (averaged across all days)\n",
        "hourly = df.groupby('hour_of_day')['power_consumption_kwh'].mean()\n",
        "plt.figure(figsize=(8,3))\n",
        "hourly.plot(marker='o')\n",
        "plt.title(\"Average Consumption by Hour of Day\")\n",
        "plt.xlabel(\"Hour (0–23)\")\n",
        "plt.ylabel(\"kWh\")\n",
        "plt.xticks(range(0,24,2))\n",
        "plt.show()"
      ],
      "metadata": {
        "id": "_ksjUu2NvxuK"
      },
      "execution_count": null,
      "outputs": []
    },
    {
      "cell_type": "code",
      "source": [
        "# Total Power consumption per month\n",
        "# 1. Resample to monthly total consumption\n",
        "monthly = df['power_consumption_kwh'].resample('M').sum()\n",
        "\n",
        "# 2. Create month labels (e.g., 'Jul 2025')\n",
        "month_labels = monthly.index.strftime('%b %Y')\n",
        "\n",
        "# 3. Plot\n",
        "plt.figure(figsize=(10, 4))\n",
        "plt.plot(month_labels, monthly.values, marker='o')\n",
        "plt.title(\"Total Power Consumption by Month\")\n",
        "plt.xlabel(\"Month\")\n",
        "plt.ylabel(\"Total kWh\")\n",
        "plt.xticks(rotation=45, ha='right')\n",
        "plt.tight_layout()\n",
        "plt.show()\n"
      ],
      "metadata": {
        "id": "P18jfCGE2okI"
      },
      "execution_count": null,
      "outputs": []
    },
    {
      "cell_type": "markdown",
      "source": [
        "### Observations: Total Power Consumption by Month\n",
        "\n",
        "- **Highest Consumption:** Power usage peaks in **March 2026**, with total consumption just above 1900 kWh, closely followed by October 2025, January 2026, and the months of spring.\n",
        "- **Lowest Consumption:** The lowest total is seen in **July 2026** (about 600 kWh), which is likely due to incomplete data for that month.\n",
        "- **Consistent Pattern:** From August 2025 through June 2026, monthly usage remains fairly stable, ranging between 1750 and 1920 kWh.\n",
        "- **Seasonal Insight:** The consistently high consumption throughout late summer, autumn, winter, and spring suggests year-round demand, possibly driven by both heating (in colder months) and cooling (in warmer months), or steady activity across all months.\n",
        "- **Note:** Partial data in the first and last July periods can make these months appear artificially low.\n"
      ],
      "metadata": {
        "id": "lKP8J2T6286F"
      }
    },
    {
      "cell_type": "code",
      "source": [
        "import matplotlib.pyplot as plt\n",
        "\n",
        "# 1. Create a 'month' column for grouping\n",
        "df['month'] = df.index.to_period('M').to_timestamp()\n",
        "\n",
        "# 2. Group by month and property type, then sum power consumption\n",
        "monthly_by_type = (\n",
        "    df.groupby(['month', 'property_type'])['power_consumption_kwh']\n",
        "    .sum()\n",
        "    .unstack()  # property_type becomes columns\n",
        ")\n",
        "\n",
        "# 3. Plot each property type as a separate line\n",
        "plt.figure(figsize=(12,5))\n",
        "for col in monthly_by_type.columns:\n",
        "    plt.plot(monthly_by_type.index, monthly_by_type[col], marker='o', label=col.capitalize())\n",
        "\n",
        "plt.title(\"Total Power Consumption by Month and Property Type\")\n",
        "plt.xlabel(\"Month\")\n",
        "plt.ylabel(\"Total kWh\")\n",
        "plt.xticks(monthly_by_type.index, [d.strftime('%b %Y') for d in monthly_by_type.index], rotation=45, ha='right')\n",
        "plt.legend(title='Property Type')\n",
        "plt.tight_layout()\n",
        "plt.show()\n"
      ],
      "metadata": {
        "id": "Rcsb7Daw3b3m"
      },
      "execution_count": null,
      "outputs": []
    },
    {
      "cell_type": "markdown",
      "source": [
        "### Observations: Monthly Total Power Consumption by Property Type\n",
        "\n",
        "- **Residential properties** consistently consume more electricity each month than commercial properties. Residential usage typically ranges from about **950 to 1,100 kWh** per month, while commercial properties range between **700 and 900 kWh**.\n",
        "- Both types follow a similar seasonal pattern, with higher usage in **late summer and early autumn** (August to October), and somewhat lower totals during the winter months (especially February).\n",
        "- **Residential consumption** reaches its peak in **August** and again in **May–June**, likely due to increased heating or cooling needs during these periods.\n",
        "- The lowest recorded consumption appears in **July 2026** for both categories, which is probably due to incomplete data for that month.\n",
        "- **Commercial consumption** is slightly more variable from month to month, which may reflect fluctuations in business activity or the influence of holidays.\n",
        "\n",
        "Overall, residential buildings are the main contributors to annual energy use, but both groups show similar rises and falls throughout the year, suggesting that seasonal factors impact both property types in parallel.\n"
      ],
      "metadata": {
        "id": "YHqZEarS38XL"
      }
    },
    {
      "cell_type": "code",
      "source": [
        "# --- 1. Weekly Average Power Consumption (better for yearly data) ---\n",
        "# Aggregate to weekly mean\n",
        "weekly = df['power_consumption_kwh'].resample('W').mean()\n",
        "\n",
        "plt.figure(figsize=(10, 3))\n",
        "plt.plot(weekly.index, weekly.values, marker='o')\n",
        "plt.title(\"Weekly Average Power Consumption\")\n",
        "plt.ylabel(\"kWh\")\n",
        "plt.xlabel(\"Week\")\n",
        "plt.tight_layout()\n",
        "plt.show()\n",
        "\n",
        "# --- 2. Average Consumption by Day of Week (cycle) ---\n",
        "# If your index is a datetime, extract day name\n",
        "df['weekday'] = df.index.day_name()  # Use df['ds'].dt.day_name() if your index is not datetime\n",
        "\n",
        "# Get mean for each day of the week\n",
        "dow_avg = df.groupby('weekday')['power_consumption_kwh'].mean()\n",
        "# Ensure proper order: Monday to Sunday\n",
        "dow_avg = dow_avg.reindex(['Monday', 'Tuesday', 'Wednesday', 'Thursday', 'Friday', 'Saturday', 'Sunday'])\n",
        "\n",
        "plt.figure(figsize=(8, 3))\n",
        "plt.plot(dow_avg.index, dow_avg.values, marker='o')\n",
        "plt.title(\"Average Power Consumption by Day of Week\")\n",
        "plt.ylabel(\"kWh\")\n",
        "plt.xlabel(\"Day of Week\")\n",
        "plt.tight_layout()\n",
        "plt.show()\n",
        "\n",
        "# --- 3. Hourly Average Consumption (remains unchanged) ---\n",
        "hourly = df.groupby('hour_of_day')['power_consumption_kwh'].mean()\n",
        "hours = hourly.index\n",
        "time_labels = [f\"{h:02d}:00\" for h in hours]\n",
        "\n",
        "plt.figure(figsize=(10, 3))\n",
        "plt.plot(hours, hourly.values, marker='o')\n",
        "plt.title(\"Average Consumption by Time of Day\")\n",
        "plt.xlabel(\"Time of Day\")\n",
        "plt.ylabel(\"kWh\")\n",
        "plt.xticks(hours, time_labels, rotation=45, ha='right')\n",
        "plt.tight_layout()\n",
        "plt.show()\n"
      ],
      "metadata": {
        "id": "ObvrrivWx_Zq"
      },
      "execution_count": null,
      "outputs": []
    },
    {
      "cell_type": "markdown",
      "source": [
        "### Observations: Weekly Average Power Consumption\n",
        "\n",
        "- **Fluctuations:** Weekly average power consumption varies between about **1.1 kWh and 1.4 kWh**, showing regular rises and dips throughout the year.\n",
        "- **Short-Term Peaks:** Repeating peaks occur every few weeks, likely linked to operational or environmental factors such as weather changes or holidays.\n",
        "- **No Major Outliers:** There are no extreme spikes or drops, suggesting overall stable demand.\n",
        "- **Real-life Context:** These trends reflect a mix of business cycles, weather, and seasonal influences on energy use.\n",
        "\n",
        "---\n",
        "\n",
        "### Observations: Average Power Consumption by Day of Week\n",
        "\n",
        "- **Workweek Higher:** Energy use is **highest Monday to Friday** (roughly **1.35–1.42 kWh** daily), peaking on Fridays.\n",
        "- **Weekend Drop:** There’s a clear decrease on **Saturdays and Sundays** (about **0.95–1.0 kWh**), indicating less activity.\n",
        "- **What This Means:** This pattern aligns with typical routines—higher weekday demand due to work, school, and business; lower on weekends when more people may be out or businesses closed.\n",
        "\n",
        "---\n",
        "\n",
        "### Observations: Average Consumption by Time of Day\n",
        "\n",
        "- **Nighttime Low:** Power use is lowest between **midnight and 6 AM** (~**0.4 kWh**), reflecting minimal activity.\n",
        "- **Morning Ramp-up:** Usage climbs rapidly from **7 AM** onward, especially between **8–10 AM**.\n",
        "- **Afternoon Peak:** The highest consumption occurs between **10 AM and 4 PM** (up to **2.2 kWh**), coinciding with business hours and daytime routines.\n",
        "- **Evening Decline:** After **4 PM**, power use gradually decreases, stabilizing in the evening and dropping after **10 PM**.\n",
        "- **What This Means:** This daily pattern matches real-world behavior—low overnight, sharp morning rise, sustained daytime peak, then evening wind-down.\n"
      ],
      "metadata": {
        "id": "bCn0KsHFzA1X"
      }
    },
    {
      "cell_type": "code",
      "source": [
        "# Weekly consumption by Propert Type\n",
        "\n",
        "# 1. Compute weekly mean consumption for each type\n",
        "weekly_type = (\n",
        "    df\n",
        "    .groupby([pd.Grouper(freq='W'), 'property_type'])['power_consumption_kwh']\n",
        "    .mean()\n",
        "    .unstack()  # columns = residential, commercial\n",
        ")\n",
        "\n",
        "# 2. Generate readable x-labels (week starting date)\n",
        "week_labels = weekly_type.index.strftime('Week of %d %b')\n",
        "\n",
        "# 3. Plot on two subplots\n",
        "fig, axes = plt.subplots(2, 1, figsize=(12, 6), sharex=True)\n",
        "\n",
        "for ax, ptype in zip(axes, ['residential', 'commercial']):\n",
        "    ax.plot(weekly_type.index, weekly_type[ptype], marker='o')\n",
        "    ax.set_title(f\"Weekly Average Power Consumption: {ptype.capitalize()}\")\n",
        "    ax.set_ylabel(\"kWh\")\n",
        "    ax.grid(True)\n",
        "\n",
        "# 4. Customize x-ticks on bottom subplot\n",
        "axes[-1].set_xticks(weekly_type.index)\n",
        "axes[-1].set_xticklabels(week_labels, rotation=45, ha='right')\n",
        "axes[-1].set_xlabel(\"Week\")\n",
        "\n",
        "plt.tight_layout()\n",
        "plt.show()\n",
        "\n",
        "# Hourly Average by Property Type (unchanged)\n",
        "hourly_type = (\n",
        "    df\n",
        "    .groupby(['hour_of_day', 'property_type'])['power_consumption_kwh']\n",
        "    .mean()\n",
        "    .unstack()\n",
        ")\n",
        "\n",
        "time_labels = [f\"{h:02d}:00\" for h in hourly_type.index]\n",
        "\n",
        "plt.figure(figsize=(10, 4))\n",
        "for ptype in ['residential', 'commercial']:\n",
        "    plt.plot(hourly_type.index, hourly_type[ptype], marker='o', label=ptype.capitalize())\n",
        "\n",
        "plt.title(\"Average Consumption by Hour of Day\")\n",
        "plt.xlabel(\"Time of Day\")\n",
        "plt.ylabel(\"kWh\")\n",
        "plt.xticks(hourly_type.index, time_labels, rotation=45, ha='right')\n",
        "plt.legend(title=\"Property Type\")\n",
        "plt.grid(True)\n",
        "plt.tight_layout()\n",
        "plt.show()\n"
      ],
      "metadata": {
        "id": "LU3724tc08IW"
      },
      "execution_count": null,
      "outputs": []
    },
    {
      "cell_type": "markdown",
      "source": [
        "### Weekly Average Power Consumption: Residential\n",
        "\n",
        "- **Residential power usage** remains higher than commercial throughout the year, typically ranging from **1.3 to 1.5 kWh per week**.\n",
        "- Fluctuations are mild, with most weeks staying within a narrow band, indicating stable household routines.\n",
        "- **Interpretation:** Residential energy demand is steady, likely due to consistent appliance use and regular living patterns, with occasional variations due to holidays, weather, or other seasonal effects.\n",
        "\n",
        "---\n",
        "\n",
        "### Weekly Average Power Consumption: Commercial\n",
        "\n",
        "- **Commercial usage** is generally lower, averaging **0.9–1.2 kWh per week**, but with a few sharper weekly peaks approaching **1.5 kWh**.\n",
        "- There is slightly more variability, with occasional spikes likely reflecting special business activities or seasonality.\n",
        "- **Interpretation:** Commercial properties show increased energy use during certain periods, possibly linked to events or operational peaks, while maintaining lower consumption during routine weeks or holidays.\n",
        "\n",
        "---\n",
        "\n",
        "### Average Consumption by Hour of Day (Property Type Comparison)\n",
        "\n",
        "- **Residential:** Power usage increases after **6 AM**, stays elevated between **7 AM and 9 PM** (about **1.5–2.0 kWh**), and drops overnight (to around **0.5 kWh**).\n",
        "- **Commercial:** Remains low overnight (**0.3 kWh**), rises rapidly after **8 AM**, peaks between **1 PM and 4 PM** (**up to 3.0 kWh**), and then falls sharply after business hours.\n",
        "- **Interpretation:** Residential consumption follows typical daily routines, while commercial usage is highly concentrated during standard business hours, reflecting operational schedules.\n",
        "\n"
      ],
      "metadata": {
        "id": "woAhboii2Mg9"
      }
    },
    {
      "cell_type": "code",
      "source": [
        "# Weekly consumption by Ev Owner\n",
        "# 1. Compute weekly mean consumption for each EV owner group\n",
        "weekly_ev = (\n",
        "    df\n",
        "    .groupby([pd.Grouper(freq='W'), 'ev_owner'])['power_consumption_kwh']\n",
        "    .mean()\n",
        "    .unstack()  # columns = True, False\n",
        ")\n",
        "\n",
        "# 2. Create readable week labels\n",
        "week_labels = [\"Week of \" + d.strftime('%d %b') for d in weekly_ev.index]\n",
        "\n",
        "# 3. Plot on two subplots (one for EV owners, one for non-owners)\n",
        "fig, axes = plt.subplots(2, 1, figsize=(10, 5), sharex=True)\n",
        "for ax, owner in zip(axes, [True, False]):\n",
        "    ax.plot(weekly_ev.index, weekly_ev[owner], marker='o')\n",
        "    label = \"EV Owner\" if owner else \"No EV\"\n",
        "    ax.set_title(f\"Weekly Average Power Consumption: {label}\")\n",
        "    ax.set_ylabel(\"kWh\")\n",
        "    ax.grid(True)\n",
        "\n",
        "# 4. Set week labels on x-axis\n",
        "axes[-1].set_xticks(weekly_ev.index)\n",
        "axes[-1].set_xticklabels(week_labels, rotation=45, ha='right')\n",
        "axes[-1].set_xlabel(\"Week\")\n",
        "plt.tight_layout()\n",
        "plt.show()\n",
        "\n",
        "# Hourly average by EV owner\n",
        "hourly_ev = (\n",
        "    df\n",
        "    .groupby(['hour_of_day', 'ev_owner'])['power_consumption_kwh']\n",
        "    .mean()\n",
        "    .unstack()  # columns = True, False\n",
        ")\n",
        "time_labels = [f\"{h:02d}:00\" for h in hourly_ev.index]\n",
        "\n",
        "plt.figure(figsize=(10, 4))\n",
        "for owner in [True, False]:\n",
        "    label = \"EV Owner\" if owner else \"No EV\"\n",
        "    plt.plot(hourly_ev.index, hourly_ev[owner], marker='o', label=label)\n",
        "plt.title(\"Average Consumption by Hour of Day (EV Owner)\")\n",
        "plt.xlabel(\"Time of Day\")\n",
        "plt.ylabel(\"kWh\")\n",
        "plt.xticks(hourly_ev.index, time_labels, rotation=45, ha='right')\n",
        "plt.legend()\n",
        "plt.grid(True)\n",
        "plt.tight_layout()\n",
        "plt.show()\n"
      ],
      "metadata": {
        "id": "VKqMUD_q2K27"
      },
      "execution_count": null,
      "outputs": []
    },
    {
      "cell_type": "markdown",
      "source": [
        "### Weekly Average Power Consumption: EV Owner\n",
        "\n",
        "- **EV Owners:** Weekly average power consumption for EV owners generally ranges from **1.0 to 1.4 kWh**, with a gradual increase over the year and several noticeable peaks. Most values remain above 1.1 kWh, showing a consistently higher usage baseline.\n",
        "- **No EV:** Non-EV owners have slightly lower weekly averages, mostly between **1.1 and 1.3 kWh**, and their usage is more stable, with fewer sharp peaks compared to EV owners.\n",
        "- **Interpretation:** EV ownership is associated with a higher and more variable average weekly power consumption, likely due to charging needs that add to regular household usage.\n",
        "\n",
        "### Average Consumption by Hour of Day (EV Owner Comparison)\n",
        "\n",
        "- **Both Groups:** Power consumption patterns by hour are very similar for both EV owners and non-EV owners, with overnight lows (0.4–0.5 kWh), a morning rise from 6 AM, and prominent peaks between **10 AM and 4 PM** (about 2.0–2.3 kWh).\n",
        "- **Subtle Differences:** EV owners have slightly higher afternoon peaks, but the overall daily curves closely match.\n",
        "- **Interpretation:** Despite the higher weekly average for EV owners, hourly usage patterns remain largely parallel, suggesting that charging is distributed in a way that aligns with general household routines, rather than causing unique new peaks.\n"
      ],
      "metadata": {
        "id": "BG5Zz7dr5vWX"
      }
    },
    {
      "cell_type": "code",
      "source": [
        "\n",
        "# Weekly average by Solar Installed\n",
        "\n",
        "# 1. weekly average\n",
        "weekly_solar = (\n",
        "    df\n",
        "    .groupby([pd.Grouper(freq='W-MON'), 'solar_installed'])['power_consumption_kwh']\n",
        "    .mean()\n",
        "    .unstack()  # columns = True, False\n",
        ")\n",
        "\n",
        "# 2. Generate readable week labels (e.g., \"Week of 13 Jul\")\n",
        "week_labels = [\"Week of \" + d.strftime('%d %b') for d in weekly_solar.index]\n",
        "\n",
        "# 3. Plot weekly averages in two subplots\n",
        "fig, axes = plt.subplots(2, 1, figsize=(10, 5), sharex=True)\n",
        "for ax, solar in zip(axes, [True, False]):\n",
        "    ax.plot(weekly_solar.index, weekly_solar[solar], marker='o')\n",
        "    label = \"Solar Installed\" if solar else \"No Solar\"\n",
        "    ax.set_title(f\"Weekly Average Power Consumption: {label}\")\n",
        "    ax.set_ylabel(\"kWh\")\n",
        "    ax.grid(True)\n",
        "\n",
        "# X-axis labels for bottom subplot\n",
        "axes[-1].set_xticks(weekly_solar.index)\n",
        "axes[-1].set_xticklabels(week_labels, rotation=45, ha='right')\n",
        "axes[-1].set_xlabel(\"Week\")\n",
        "plt.tight_layout()\n",
        "plt.show()\n",
        "\n",
        "# 4. Hourly average by Solar Installed (remains unchanged)\n",
        "hourly_solar = (\n",
        "    df\n",
        "    .groupby(['hour_of_day', 'solar_installed'])['power_consumption_kwh']\n",
        "    .mean()\n",
        "    .unstack()  # columns = True, False\n",
        ")\n",
        "time_labels = [f\"{h:02d}:00\" for h in hourly_solar.index]\n",
        "\n",
        "plt.figure(figsize=(10, 4))\n",
        "for solar in [True, False]:\n",
        "    label = \"Solar Installed\" if solar else \"No Solar\"\n",
        "    plt.plot(hourly_solar.index, hourly_solar[solar], marker='o', label=label)\n",
        "plt.title(\"Average Consumption by Hour of Day (Solar Installed)\")\n",
        "plt.xlabel(\"Time of Day\")\n",
        "plt.ylabel(\"kWh\")\n",
        "plt.xticks(hourly_solar.index, time_labels, rotation=45, ha='right')\n",
        "plt.legend()\n",
        "plt.grid(True)\n",
        "plt.tight_layout()\n",
        "plt.show()\n"
      ],
      "metadata": {
        "id": "IOiXHaN763os"
      },
      "execution_count": null,
      "outputs": []
    },
    {
      "cell_type": "markdown",
      "source": [
        "### Weekly Average Power Consumption: Solar Installed\n",
        "\n",
        "- **Solar Installed:** Properties with solar panels generally show a higher and more variable weekly power consumption, with peaks above 1.6 kWh and fluctuations throughout the year. The higher average could reflect larger or more energy-active households, or possible feedback to the grid.\n",
        "- **No Solar:** Properties without solar are more consistent, averaging around 1.2–1.4 kWh per week, with less dramatic swings and a slightly lower ceiling compared to the solar group.\n",
        "- **Interpretation:** Solar adoption is associated with higher observed power use, but the variation suggests that lifestyle, system size, or local conditions may also play a role.\n",
        "\n",
        "### Average Consumption by Hour of Day (Solar Installed)\n",
        "\n",
        "- **Solar Installed:** Average power use rises sharply after 6 AM, peaking between 2–4 PM (up to 2.2 kWh), then declines in the evening. This pattern could align with active daytime usage and possible feedback from solar systems during peak sun hours.\n",
        "- **No Solar:** Similar daily curve, but with a slightly lower afternoon peak and consistently lower consumption in most hours.\n",
        "- **Interpretation:** Both groups have similar time-of-day profiles, but the solar group consistently uses (or returns) more energy, especially during midday hours. This highlights the impact of solar adoption on both consumption and potential generation patterns.\n"
      ],
      "metadata": {
        "id": "W1c3LWYc7g5d"
      }
    },
    {
      "cell_type": "markdown",
      "source": [
        "### Correlation Matrix"
      ],
      "metadata": {
        "id": "nSBBAWSu7wa5"
      }
    },
    {
      "cell_type": "code",
      "source": [
        "# Compute correlations\n",
        "corr = df[['power_consumption_kwh','voltage','current','temperature_c','humidity_pct']].corr()\n",
        "\n",
        "# Plot\n",
        "plt.figure(figsize=(6,5))\n",
        "sns.heatmap(corr, annot=True, fmt=\".2f\", cmap=\"coolwarm\")\n",
        "plt.title(\"Feature Correlation Matrix\")\n",
        "plt.show()"
      ],
      "metadata": {
        "id": "XLzRboe47CN3"
      },
      "execution_count": null,
      "outputs": []
    },
    {
      "cell_type": "markdown",
      "source": [
        "- **Power consumption** is perfectly positively correlated with **current** (1.00) and very strongly negatively correlated with **voltage** (-0.91). This is typical in electrical systems: as current increases for a given voltage, so does power usage, and vice versa.\n",
        "- **Humidity** shows a mild positive correlation with power consumption (0.22), while **temperature** is slightly negatively correlated (-0.19), suggesting that weather factors play only a small role in influencing energy use in this dataset.\n",
        "- **Temperature and humidity** are very strongly negatively correlated (-0.86), reflecting the common environmental pattern where higher temperatures often coincide with lower humidity.\n",
        "- **Voltage and current** are also very strongly negatively correlated (-0.91), further highlighting their inverse relationship in household or commercial power distribution.\n"
      ],
      "metadata": {
        "id": "bAi669YF8lS4"
      }
    },
    {
      "cell_type": "code",
      "source": [],
      "metadata": {
        "id": "Rf8rDN5O9Mek"
      },
      "execution_count": null,
      "outputs": []
    }
  ]
}